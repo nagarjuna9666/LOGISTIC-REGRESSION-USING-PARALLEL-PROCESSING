{
  "nbformat": 4,
  "nbformat_minor": 0,
  "metadata": {
    "colab": {
      "name": "Untitled0.ipynb",
      "provenance": [],
      "collapsed_sections": []
    },
    "kernelspec": {
      "name": "python3",
      "display_name": "Python 3"
    },
    "language_info": {
      "name": "python"
    }
  },
  "cells": [
    {
      "cell_type": "code",
      "metadata": {
        "colab": {
          "base_uri": "https://localhost:8080/"
        },
        "id": "n-1Ft69lX6Eu",
        "outputId": "bcca8170-f65d-468c-af9c-36331d5c5ba0"
      },
      "source": [
        "from multiprocessing import Process, Manager\n",
        "import pandas as pd\n",
        "from scipy.stats import logistic\n",
        "import numpy as np\n",
        "import time\n",
        "import argparse\n",
        "import matplotlib.pyplot as plt\n",
        "from sklearn.model_selection import train_test_split\n",
        "from sklearn.linear_model import LogisticRegression\n",
        "from sklearn.metrics import classification_report\n",
        "\n",
        "start_time = time.clock()\n",
        "\n",
        "#Initialize argument parser\n",
        "parser = argparse.ArgumentParser()\n",
        "parser.add_argument(\"-f\", \"--filename\", help=\"input file name\")\n",
        "parser.add_argument(\"-l\", \"--learning_rate\", type=float, help=\"learning rate\")\n",
        "parser.add_argument(\"-i\", \"--iterations\", type=int, help=\"number of iteration\")\n",
        "args = parser.parse_args()\n",
        "\n",
        "if args.filename:\n",
        "    filename = args.filename\n",
        "else:\n",
        "    print('Please specify a file name')\n",
        "    print('Execute \"python logistic.py -h\" for help')\n",
        "    exit()\n",
        "\n",
        "if args.learning_rate:\n",
        "    learning_rate = args.learning_rate\n",
        "else:\n",
        "    learning_rate = 1\n",
        "    print('Using default learning rate', learning_rate)\n",
        "\n",
        "if args.iterations:\n",
        "    iterations = args.iterations\n",
        "else:\n",
        "    iterations = 50\n",
        "    print('Using default iterations', iterations)\n",
        "\n",
        "def compute_sum(parameters, result):\n",
        "    for parameter in parameters:\n",
        "        summition = 0\n",
        "        for sample in data_array:\n",
        "            summition += (hypothesis(sample[:-1], theta) - sample[-1]) * sample[parameter] \n",
        "        if parameter != 0:\n",
        "            summition -= theta[parameter]/number_of_examples\n",
        "        result[parameter] = learning_rate * summition / number_of_examples\n",
        "\n",
        "\n",
        "def sigmoid(value):\n",
        "    return logistic.cdf(value)\n",
        "\n",
        "def hypothesis(X, theta):\n",
        "    hx = np.dot(theta, X)\n",
        "    return sigmoid(hx)\n",
        "\n",
        "def predict_proba(X,theta):\n",
        "    return sigmoid(np.inner(theta[1:], X) + theta[0])\n",
        "\n",
        "#read data from csv file\n",
        "data_csv = pd.read_csv(\"/content/titanic_train.csv\")\n",
        "\n",
        "#number of training examples  \n",
        "number_of_examples = data_csv.shape[0]\n",
        "\n",
        "#number of parameters in training set  \n",
        "number_of_parameters = data_csv.shape[1]\n",
        "\n",
        "#add column of ones to dataframe  make looping symmetric \n",
        "ones = np.ones(number_of_examples)\n",
        "data_csv.insert(0, 'theta0',ones)\n",
        "\n",
        "#initialize theta to zeroes array\n",
        "theta = np.zeros(number_of_parameters)\n",
        "\n",
        "#convert dataframe to numpy array\n",
        "data_array = data_csv.to_numpy()\n",
        "\n",
        "parameters_split = np.array_split(list(range(len(theta))), 4)\n",
        "print(parameters_split)\n",
        "manager = Manager()\n",
        "results = manager.dict()\n",
        "\n",
        "\n",
        "for i in range(iterations):\n",
        "    processes = []\n",
        "    for j in range(len(parameters_split)):\n",
        "        processes.append(Process(target=compute_sum, args=(parameters_split[j], results)))\n",
        "    theta_diff = []\n",
        "    for p in processes:\n",
        "        p.start()\n",
        "    for p in processes:\n",
        "        p.join()\n",
        "    for j in range(len(theta)):\n",
        "        theta_diff.append(results[j])\n",
        "    theta = theta - theta_diff\n",
        "\n",
        "for i in range(len(theta)):\n",
        "    print('coefficient for theta ' + str(i), theta[i])\n",
        "\n",
        "\n",
        "\n",
        "X_train, X_test, y_train, y_test = train_test_split(data_csv.drop('Survived',axis=1), \n",
        "                                                    data_csv['Survived'], test_size=0.30, \n",
        "                                                    random_state=101)\n",
        "logmodel = LogisticRegression()\n",
        "logmodel.fit(X_train,y_train)\n",
        "predictions = logmodel.predict(X_test)\n",
        "print(classification_report(y_test,predictions))\n",
        "print(time.clock() - start_time, \"seconds\")\n"
      ],
      "execution_count": null,
      "outputs": [
        {
          "output_type": "stream",
          "text": [
            "Using default learning rate 1\n",
            "Using default iterations 50\n",
            "[array([0]), array([1]), array([2]), array([], dtype=int64)]\n"
          ],
          "name": "stdout"
        },
        {
          "output_type": "stream",
          "text": [
            "/usr/local/lib/python3.7/dist-packages/ipykernel_launcher.py:12: DeprecationWarning: time.clock has been deprecated in Python 3.3 and will be removed from Python 3.8: use time.perf_counter or time.process_time instead\n",
            "  if sys.path[0] == '':\n"
          ],
          "name": "stderr"
        },
        {
          "output_type": "stream",
          "text": [
            "coefficient for theta 0 -7.075944248742161\n",
            "coefficient for theta 1 4.5710279013783115\n",
            "coefficient for theta 2 -21.757066472203274\n",
            "              precision    recall  f1-score   support\n",
            "\n",
            "           0       0.66      0.85      0.74       154\n",
            "           1       0.67      0.41      0.51       114\n",
            "\n",
            "    accuracy                           0.66       268\n",
            "   macro avg       0.67      0.63      0.63       268\n",
            "weighted avg       0.67      0.66      0.65       268\n",
            "\n",
            "1.6605899999999991 seconds\n"
          ],
          "name": "stdout"
        },
        {
          "output_type": "stream",
          "text": [
            "/usr/local/lib/python3.7/dist-packages/ipykernel_launcher.py:110: DeprecationWarning: time.clock has been deprecated in Python 3.3 and will be removed from Python 3.8: use time.perf_counter or time.process_time instead\n"
          ],
          "name": "stderr"
        }
      ]
    }
  ]
}